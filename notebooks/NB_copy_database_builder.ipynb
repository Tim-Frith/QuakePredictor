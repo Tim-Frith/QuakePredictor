{
 "cells": [
  {
   "cell_type": "markdown",
   "metadata": {},
   "source": [
    "## Imports"
   ]
  },
  {
   "cell_type": "code",
   "execution_count": 2,
   "metadata": {},
   "outputs": [],
   "source": [
    "import sqlite3\n",
    "import pandas as pd"
   ]
  },
  {
   "cell_type": "markdown",
   "metadata": {},
   "source": [
    "## Make Dataframes"
   ]
  },
  {
   "cell_type": "code",
   "execution_count": 3,
   "metadata": {},
   "outputs": [],
   "source": [
    "# Converts csvs to DataFrames\n",
    "moons_df = pd.read_csv('../datasets/full_moons.csv')\n",
    "plate_df = pd.read_csv('../datasets/plate_boundaries.csv')\n",
    "quake_df = pd.read_csv('../datasets/significant_earthquakes.csv')"
   ]
  },
  {
   "cell_type": "markdown",
   "metadata": {},
   "source": [
    "## Date/Time to Hours"
   ]
  },
  {
   "cell_type": "code",
   "execution_count": 4,
   "metadata": {},
   "outputs": [],
   "source": [
    "# This is the value that all dates are compared to \n",
    "baseline = pd.to_datetime('1900-01-01 00:00:00')"
   ]
  },
  {
   "cell_type": "markdown",
   "metadata": {},
   "source": [
    "For the Moons DataFrame"
   ]
  },
  {
   "cell_type": "code",
   "execution_count": 5,
   "metadata": {},
   "outputs": [],
   "source": [
    "# Combines 'Date' and 'Time' columns into 'DateTime' \n",
    "moons_df['DateTime'] = pd.to_datetime(moons_df['Date'] + ' ' + moons_df['Time'], format=\"%d %B %Y %I:%M:%S %p\")"
   ]
  },
  {
   "cell_type": "code",
   "execution_count": 6,
   "metadata": {},
   "outputs": [],
   "source": [
    "# Converts time elapsed since baseline into hours, then rounds\n",
    "moons_df['time'] = (moons_df['DateTime'] - baseline).dt.total_seconds() / 3600\n",
    "moons_df['time'] = moons_df['time'].round(decimals=2)"
   ]
  },
  {
   "cell_type": "markdown",
   "metadata": {},
   "source": [
    "For the Quakes DataFrame"
   ]
  },
  {
   "cell_type": "code",
   "execution_count": 7,
   "metadata": {},
   "outputs": [],
   "source": [
    "# Converts time elapsed since baseline into hours, then rounds to int\n",
    "quake_df['time'] = pd.to_datetime(quake_df['time'], format=\"%Y-%m-%dT%H:%M:%S.%fZ\")\n",
    "quake_df['time'] = (quake_df['time'] - baseline).dt.total_seconds() / 3600\n",
    "quake_df['time'] = quake_df['time'].round(decimals=0).astype(int)"
   ]
  },
  {
   "cell_type": "markdown",
   "metadata": {},
   "source": [
    "## Column Cleaning"
   ]
  },
  {
   "cell_type": "markdown",
   "metadata": {},
   "source": [
    "For the Moons DataFrame"
   ]
  },
  {
   "cell_type": "code",
   "execution_count": 8,
   "metadata": {},
   "outputs": [],
   "source": [
    "# Drops unneeded columns\n",
    "moons_df.drop(columns=['Day', 'Date', 'Time', 'Flag', 'DateTime'], inplace=True)"
   ]
  },
  {
   "cell_type": "code",
   "execution_count": 9,
   "metadata": {},
   "outputs": [],
   "source": [
    "# Creates empty DataFrame to store interpolated new moon rows at midpoints \n",
    "new_moons_df = pd.DataFrame(columns=moons_df.columns)\n",
    "\n",
    "# Loops through the rows of 'moons_df'\n",
    "for i in range(len(moons_df) - 1):\n",
    "    # Gets the mean of each pair of full moon rows and adds it to 'new_moons_df'\n",
    "    avg_time = (moons_df['time'].iloc[i] + moons_df['time'].iloc[i+1]) / 2\n",
    "    row = pd.DataFrame([avg_time], columns=['time'])\n",
    "    new_moons_df = pd.concat([new_moons_df, row], ignore_index=True)\n",
    "\n",
    "# Combines the full moon rows with the new moon rows\n",
    "moons_df = pd.concat([moons_df, new_moons_df]).sort_values('time').reset_index(drop=True)"
   ]
  },
  {
   "cell_type": "code",
   "execution_count": 10,
   "metadata": {},
   "outputs": [],
   "source": [
    "# Rounds to int now that calculations are complete \n",
    "moons_df['time'] = moons_df['time'].round(decimals=0).astype(int)"
   ]
  },
  {
   "cell_type": "code",
   "execution_count": 11,
   "metadata": {},
   "outputs": [],
   "source": [
    "# Changes index to id \n",
    "moons_df.reset_index(level=0, inplace=True)\n",
    "moons_df.rename(columns={'index': 'moon_ID'}, inplace=True)\n",
    "moons_df.set_index('moon_ID', inplace=True)"
   ]
  },
  {
   "cell_type": "markdown",
   "metadata": {},
   "source": [
    "For the Plates DataFrame"
   ]
  },
  {
   "cell_type": "code",
   "execution_count": 12,
   "metadata": {},
   "outputs": [],
   "source": [
    "# Changes index to id \n",
    "plate_df.reset_index(level=0, inplace=True)\n",
    "plate_df.rename(columns={'index': 'point_ID'}, inplace=True)\n",
    "plate_df.set_index('point_ID', inplace=True)"
   ]
  },
  {
   "cell_type": "markdown",
   "metadata": {},
   "source": [
    "For the Quakes DataFrame"
   ]
  },
  {
   "cell_type": "code",
   "execution_count": 13,
   "metadata": {},
   "outputs": [],
   "source": [
    "# Selects earthquake-derived seismic activity only \n",
    "type_mask = quake_df['type'] == 'earthquake'\n",
    "quake_df = quake_df[type_mask]\n",
    "\n",
    "# Selects quakes measured with moment magnitude scale only\n",
    "mag_type_mask = quake_df['magType'] == 'mw'\n",
    "quake_df = quake_df[mag_type_mask]"
   ]
  },
  {
   "cell_type": "code",
   "execution_count": 14,
   "metadata": {},
   "outputs": [],
   "source": [
    "# Drops unneeded columns\n",
    "quake_df.drop(columns=['Unnamed: 0','magType', 'nst', 'dmin','rms', 'net', 'id', 'updated', 'place', 'type', 'horizontalError', 'depthError', 'magError', 'magNst', 'status', 'locationSource', 'magSource', 'gap'], inplace=True)"
   ]
  },
  {
   "cell_type": "code",
   "execution_count": 15,
   "metadata": {},
   "outputs": [],
   "source": [
    "# Changes index to id \n",
    "quake_df.reset_index(level=0, inplace=True)\n",
    "quake_df.rename(columns={'index': 'quake_ID'}, inplace=True)\n",
    "quake_df.set_index('quake_ID', inplace=True)"
   ]
  },
  {
   "cell_type": "markdown",
   "metadata": {},
   "source": [
    "## Checking for null values"
   ]
  },
  {
   "cell_type": "code",
   "execution_count": 42,
   "metadata": {},
   "outputs": [
    {
     "name": "stdout",
     "output_type": "stream",
     "text": [
      "MOONS DF \n",
      " time    0\n",
      "dtype: int64 \n",
      "\n",
      "QUAKE DF \n",
      " time         0\n",
      "latitude     0\n",
      "longitude    0\n",
      "depth        0\n",
      "mag          0\n",
      "dtype: int64 \n",
      "\n",
      "PLATE DF \n",
      " plate    0\n",
      "lat      0\n",
      "lon      0\n",
      "dtype: int64\n"
     ]
    }
   ],
   "source": [
    "print(\"MOONS DF\", \"\\n\", moons_df.isna().sum(), \"\\n\") \n",
    "print(\"QUAKE DF\", \"\\n\", quake_df.isna().sum(), \"\\n\")\n",
    "print(\"PLATE DF\", \"\\n\", plate_df.isna().sum())"
   ]
  },
  {
   "cell_type": "code",
   "execution_count": 43,
   "metadata": {},
   "outputs": [],
   "source": [
    "#fill null values in 'depth' column of quake_df with 0 \n",
    "quake_df['depth'].fillna(0, inplace=True)"
   ]
  },
  {
   "cell_type": "markdown",
   "metadata": {},
   "source": [
    "## Store as SQL"
   ]
  },
  {
   "cell_type": "code",
   "execution_count": 15,
   "metadata": {},
   "outputs": [],
   "source": [
    "# Creates and connects to repo SQL database\n",
    "conn = sqlite3.connect('../datasets/database.db')"
   ]
  },
  {
   "cell_type": "code",
   "execution_count": 16,
   "metadata": {},
   "outputs": [
    {
     "data": {
      "text/plain": [
       "24260"
      ]
     },
     "execution_count": 16,
     "metadata": {},
     "output_type": "execute_result"
    }
   ],
   "source": [
    "# Creates SQL tables from each DataFrame\n",
    "moons_table_name = 'moons_table'\n",
    "moons_df.to_sql(moons_table_name, conn, if_exists='replace', index=True)\n",
    "\n",
    "plate_table_name = 'plate_table'\n",
    "plate_df.to_sql(plate_table_name, conn, if_exists='replace', index=True)\n",
    "\n",
    "quake_table_name = 'quake_table'\n",
    "quake_df.to_sql(quake_table_name, conn, if_exists='replace', index=True)"
   ]
  }
 ],
 "metadata": {
  "kernelspec": {
   "display_name": "Python 3 (ipykernel)",
   "language": "python",
   "name": "python3"
  },
  "language_info": {
   "codemirror_mode": {
    "name": "ipython",
    "version": 3
   },
   "file_extension": ".py",
   "mimetype": "text/x-python",
   "name": "python",
   "nbconvert_exporter": "python",
   "pygments_lexer": "ipython3",
   "version": "3.10.6"
  },
  "toc": {
   "base_numbering": 1,
   "nav_menu": {},
   "number_sections": true,
   "sideBar": true,
   "skip_h1_title": false,
   "title_cell": "Table of Contents",
   "title_sidebar": "Contents",
   "toc_cell": false,
   "toc_position": {},
   "toc_section_display": true,
   "toc_window_display": false
  }
 },
 "nbformat": 4,
 "nbformat_minor": 2
}
