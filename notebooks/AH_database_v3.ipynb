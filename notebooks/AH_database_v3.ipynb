{
 "cells": [
  {
   "cell_type": "markdown",
   "metadata": {},
   "source": [
    "## Imports"
   ]
  },
  {
   "cell_type": "code",
   "execution_count": 2,
   "metadata": {},
   "outputs": [],
   "source": [
    "import numpy as np \n",
    "import pandas as pd \n",
    "import sqlite3 "
   ]
  },
  {
   "cell_type": "markdown",
   "metadata": {},
   "source": [
    "## Make Dataframes"
   ]
  },
  {
   "cell_type": "code",
   "execution_count": 3,
   "metadata": {},
   "outputs": [],
   "source": [
    "# Converts csvs to DataFrames\n",
    "moons_df = pd.read_csv('../datasets/full_moons.csv')\n",
    "plate_df = pd.read_csv('../datasets/plate_boundaries.csv')\n",
    "quake_df = pd.read_csv('../datasets/significant_earthquakes.csv')"
   ]
  },
  {
   "cell_type": "markdown",
   "metadata": {},
   "source": [
    "## Date/Time to Hours"
   ]
  },
  {
   "cell_type": "code",
   "execution_count": 4,
   "metadata": {},
   "outputs": [],
   "source": [
    "# This is the value that all dates are compared to \n",
    "baseline = pd.to_datetime('1900-01-01 00:00:00')"
   ]
  },
  {
   "cell_type": "markdown",
   "metadata": {},
   "source": [
    "For the Moons DataFrame"
   ]
  },
  {
   "cell_type": "code",
   "execution_count": 5,
   "metadata": {},
   "outputs": [],
   "source": [
    "# Combines 'Date' and 'Time' columns into 'DateTime' \n",
    "moons_df['DateTime'] = pd.to_datetime(moons_df['Date'] + ' ' + moons_df['Time'], format=\"%d %B %Y %I:%M:%S %p\")"
   ]
  },
  {
   "cell_type": "code",
   "execution_count": 6,
   "metadata": {},
   "outputs": [],
   "source": [
    "# Converts time elapsed since baseline into hours, then rounds\n",
    "moons_df['time'] = (moons_df['DateTime'] - baseline).dt.total_seconds() / 3600\n",
    "moons_df['time'] = moons_df['time'].round(decimals=2)"
   ]
  },
  {
   "cell_type": "markdown",
   "metadata": {},
   "source": [
    "For the Quakes DataFrame"
   ]
  },
  {
   "cell_type": "code",
   "execution_count": 7,
   "metadata": {},
   "outputs": [],
   "source": [
    "# Converts time elapsed since baseline into hours, then rounds to int\n",
    "quake_df['time'] = pd.to_datetime(quake_df['time'], format=\"%Y-%m-%dT%H:%M:%S.%fZ\")\n",
    "quake_df['time'] = (quake_df['time'] - baseline).dt.total_seconds() / 3600\n",
    "quake_df['time'] = quake_df['time'].round(decimals=0).astype(int)"
   ]
  },
  {
   "cell_type": "markdown",
   "metadata": {},
   "source": [
    "## Column Cleaning"
   ]
  },
  {
   "cell_type": "markdown",
   "metadata": {},
   "source": [
    "For the Moons DataFrame"
   ]
  },
  {
   "cell_type": "code",
   "execution_count": 8,
   "metadata": {},
   "outputs": [],
   "source": [
    "# Drops unneeded columns\n",
    "moons_df.drop(columns=['Day', 'Date', 'Time', 'Flag', 'DateTime'], inplace=True)"
   ]
  },
  {
   "cell_type": "code",
   "execution_count": 9,
   "metadata": {},
   "outputs": [],
   "source": [
    "# Creates empty DataFrame to store interpolated new moon rows at midpoints \n",
    "new_moons_df = pd.DataFrame(columns=moons_df.columns)\n",
    "\n",
    "# Loops through the rows of 'moons_df'\n",
    "for i in range(len(moons_df) - 1):\n",
    "    # Gets the mean of each pair of full moon rows and adds it to 'new_moons_df'\n",
    "    avg_time = (moons_df['time'].iloc[i] + moons_df['time'].iloc[i+1]) / 2\n",
    "    row = pd.DataFrame([avg_time], columns=['time'])\n",
    "    new_moons_df = pd.concat([new_moons_df, row], ignore_index=True)\n",
    "\n",
    "# Combines the full moon rows with the new moon rows\n",
    "moons_df = pd.concat([moons_df, new_moons_df]).sort_values('time').reset_index(drop=True)"
   ]
  },
  {
   "cell_type": "code",
   "execution_count": 10,
   "metadata": {},
   "outputs": [],
   "source": [
    "# Rounds to int now that calculations are complete \n",
    "moons_df['time'] = moons_df['time'].round(decimals=0).astype(int)"
   ]
  },
  {
   "cell_type": "code",
   "execution_count": 11,
   "metadata": {},
   "outputs": [],
   "source": [
    "# Changes index to id \n",
    "moons_df.reset_index(level=0, inplace=True)\n",
    "moons_df.rename(columns={'index': 'moon_ID'}, inplace=True)\n",
    "moons_df.set_index('moon_ID', inplace=True)"
   ]
  },
  {
   "cell_type": "markdown",
   "metadata": {},
   "source": [
    "For the Plates DataFrame"
   ]
  },
  {
   "cell_type": "code",
   "execution_count": 12,
   "metadata": {},
   "outputs": [],
   "source": [
    "# Changes index to id \n",
    "plate_df.reset_index(level=0, inplace=True)\n",
    "plate_df.rename(columns={'index': 'point_ID'}, inplace=True)\n",
    "plate_df.set_index('point_ID', inplace=True)"
   ]
  },
  {
   "cell_type": "markdown",
   "metadata": {},
   "source": [
    "For the Quakes DataFrame"
   ]
  },
  {
   "cell_type": "code",
   "execution_count": 13,
   "metadata": {},
   "outputs": [],
   "source": [
    "# Selects earthquake-derived seismic activity only \n",
    "type_mask = quake_df['type'] == 'earthquake'\n",
    "quake_df = quake_df[type_mask]\n",
    "\n",
    "# Selects quakes measured with moment magnitude scale only\n",
    "mag_type_mask = quake_df['magType'] == 'mw'\n",
    "quake_df = quake_df[mag_type_mask]"
   ]
  },
  {
   "cell_type": "code",
   "execution_count": 14,
   "metadata": {},
   "outputs": [],
   "source": [
    "# Drops unneeded columns\n",
    "quake_df.drop(columns=['Unnamed: 0','magType', 'nst', 'dmin','rms', 'net', 'id', 'updated', 'place', 'type', 'horizontalError', 'depthError', 'magError', 'magNst', 'status', 'locationSource', 'magSource', 'gap'], inplace=True)"
   ]
  },
  {
   "cell_type": "code",
   "execution_count": 15,
   "metadata": {},
   "outputs": [],
   "source": [
    "# Changes index to id \n",
    "quake_df.reset_index(level=0, inplace=True)\n",
    "quake_df.rename(columns={'index': 'quake_ID'}, inplace=True)\n",
    "quake_df.set_index('quake_ID', inplace=True)"
   ]
  },
  {
   "cell_type": "markdown",
   "metadata": {},
   "source": [
    "## Checking for null values"
   ]
  },
  {
   "cell_type": "code",
   "execution_count": 16,
   "metadata": {},
   "outputs": [
    {
     "name": "stdout",
     "output_type": "stream",
     "text": [
      "MOONS DF \n",
      " time    0\n",
      "dtype: int64 \n",
      "\n",
      "QUAKE DF \n",
      " time         0\n",
      "latitude     0\n",
      "longitude    0\n",
      "depth        7\n",
      "mag          0\n",
      "dtype: int64 \n",
      "\n",
      "PLATE DF \n",
      " plate    0\n",
      "lat      0\n",
      "lon      0\n",
      "dtype: int64\n"
     ]
    }
   ],
   "source": [
    "# Prints amount of null values in each column \n",
    "print(\"MOONS DF\", \"\\n\", moons_df.isna().sum(), \"\\n\") \n",
    "print(\"QUAKE DF\", \"\\n\", quake_df.isna().sum(), \"\\n\")\n",
    "print(\"PLATE DF\", \"\\n\", plate_df.isna().sum())"
   ]
  },
  {
   "cell_type": "code",
   "execution_count": 17,
   "metadata": {},
   "outputs": [],
   "source": [
    "# Fill null values in 'depth' column of quake_df with 0 \n",
    "quake_df['depth'].fillna(0, inplace=True)"
   ]
  },
  {
   "cell_type": "markdown",
   "metadata": {},
   "source": [
    "## Aftershock/Preshock Remover"
   ]
  },
  {
   "cell_type": "code",
   "execution_count": 28,
   "metadata": {},
   "outputs": [],
   "source": [
    "def identify_shocks(quake_df):\n",
    "    # Sort the dataframe by time, latitude, longitude, and magnitude\n",
    "    quake_df.sort_values(['time', 'latitude', 'longitude', 'mag'], inplace=True)\n",
    "    \n",
    "    quake_df['shock_type'] = np.nan\n",
    "    quake_df['hours_diff'] = np.nan\n",
    "\n",
    "    for i in range(len(quake_df)):\n",
    "        # Get the current earthquake\n",
    "        cur_quake = quake_df.iloc[i]\n",
    "\n",
    "        # Get all earthquakes within the given range of the current one\n",
    "        in_range = quake_df[\n",
    "            ((quake_df.time >= cur_quake.time - 2190) & (quake_df.time <= cur_quake.time + 2190)) & \n",
    "            (abs(quake_df.latitude - cur_quake.latitude) <= 17) & \n",
    "            (abs(quake_df.longitude - cur_quake.longitude) <= 17)\n",
    "        ]\n",
    "\n",
    "        # Get the quake with maximum magnitude within range\n",
    "        max_mag_quake = in_range[in_range.mag == in_range.mag.max()]\n",
    "\n",
    "        # If there's more than one quake with maximum magnitude, take the earliest one\n",
    "        if len(max_mag_quake) > 1:\n",
    "            max_mag_quake = max_mag_quake[max_mag_quake.time == max_mag_quake.time.min()]\n",
    "\n",
    "        max_mag_quake_id = max_mag_quake.index[0]\n",
    "\n",
    "        # If the current quake is the main quake\n",
    "        if cur_quake.name == max_mag_quake_id:\n",
    "            quake_df.at[cur_quake.name, 'shock_type'] = 'M'\n",
    "            quake_df.at[cur_quake.name, 'hours_diff'] = 0\n",
    "        else:\n",
    "            quake_df.at[cur_quake.name, 'hours_diff'] = cur_quake.time - max_mag_quake.time.values[0]\n",
    "            # If the current quake occurred before the main quake\n",
    "            if quake_df.at[cur_quake.name, 'hours_diff'] < 0:\n",
    "                quake_df.at[cur_quake.name, 'shock_type'] = 'P'\n",
    "            else:  # If the current quake occurred after the main quake\n",
    "                quake_df.at[cur_quake.name, 'shock_type'] = 'A'\n",
    "\n",
    "    return quake_df"
   ]
  },
  {
   "cell_type": "code",
   "execution_count": 44,
   "metadata": {},
   "outputs": [
    {
     "data": {
      "text/html": [
       "<div>\n",
       "<style scoped>\n",
       "    .dataframe tbody tr th:only-of-type {\n",
       "        vertical-align: middle;\n",
       "    }\n",
       "\n",
       "    .dataframe tbody tr th {\n",
       "        vertical-align: top;\n",
       "    }\n",
       "\n",
       "    .dataframe thead th {\n",
       "        text-align: right;\n",
       "    }\n",
       "</style>\n",
       "<table border=\"1\" class=\"dataframe\">\n",
       "  <thead>\n",
       "    <tr style=\"text-align: right;\">\n",
       "      <th></th>\n",
       "      <th>time</th>\n",
       "      <th>latitude</th>\n",
       "      <th>longitude</th>\n",
       "      <th>depth</th>\n",
       "      <th>mag</th>\n",
       "      <th>shock_type</th>\n",
       "      <th>hours_diff</th>\n",
       "    </tr>\n",
       "    <tr>\n",
       "      <th>quake_ID</th>\n",
       "      <th></th>\n",
       "      <th></th>\n",
       "      <th></th>\n",
       "      <th></th>\n",
       "      <th></th>\n",
       "      <th></th>\n",
       "      <th></th>\n",
       "    </tr>\n",
       "  </thead>\n",
       "  <tbody>\n",
       "    <tr>\n",
       "      <th>0</th>\n",
       "      <td>6756</td>\n",
       "      <td>57.090000</td>\n",
       "      <td>-153.480000</td>\n",
       "      <td>0.00</td>\n",
       "      <td>7.86</td>\n",
       "      <td>M</td>\n",
       "      <td>0.0</td>\n",
       "    </tr>\n",
       "    <tr>\n",
       "      <th>16</th>\n",
       "      <td>37306</td>\n",
       "      <td>41.758000</td>\n",
       "      <td>23.249000</td>\n",
       "      <td>15.00</td>\n",
       "      <td>7.02</td>\n",
       "      <td>M</td>\n",
       "      <td>0.0</td>\n",
       "    </tr>\n",
       "    <tr>\n",
       "      <th>17</th>\n",
       "      <td>37306</td>\n",
       "      <td>41.802000</td>\n",
       "      <td>23.108000</td>\n",
       "      <td>15.00</td>\n",
       "      <td>6.84</td>\n",
       "      <td>A</td>\n",
       "      <td>0.0</td>\n",
       "    </tr>\n",
       "    <tr>\n",
       "      <th>19</th>\n",
       "      <td>39279</td>\n",
       "      <td>51.424000</td>\n",
       "      <td>161.638000</td>\n",
       "      <td>15.00</td>\n",
       "      <td>7.50</td>\n",
       "      <td>P</td>\n",
       "      <td>-6.0</td>\n",
       "    </tr>\n",
       "    <tr>\n",
       "      <th>18</th>\n",
       "      <td>39285</td>\n",
       "      <td>52.763000</td>\n",
       "      <td>160.277000</td>\n",
       "      <td>30.00</td>\n",
       "      <td>7.70</td>\n",
       "      <td>M</td>\n",
       "      <td>0.0</td>\n",
       "    </tr>\n",
       "    <tr>\n",
       "      <th>...</th>\n",
       "      <td>...</td>\n",
       "      <td>...</td>\n",
       "      <td>...</td>\n",
       "      <td>...</td>\n",
       "      <td>...</td>\n",
       "      <td>...</td>\n",
       "      <td>...</td>\n",
       "    </tr>\n",
       "    <tr>\n",
       "      <th>96776</th>\n",
       "      <td>1081579</td>\n",
       "      <td>40.377500</td>\n",
       "      <td>-125.562833</td>\n",
       "      <td>10.00</td>\n",
       "      <td>5.58</td>\n",
       "      <td>M</td>\n",
       "      <td>0.0</td>\n",
       "    </tr>\n",
       "    <tr>\n",
       "      <th>96941</th>\n",
       "      <td>1081579</td>\n",
       "      <td>40.377500</td>\n",
       "      <td>-125.562833</td>\n",
       "      <td>10.00</td>\n",
       "      <td>5.58</td>\n",
       "      <td>A</td>\n",
       "      <td>0.0</td>\n",
       "    </tr>\n",
       "    <tr>\n",
       "      <th>97073</th>\n",
       "      <td>1081579</td>\n",
       "      <td>40.377500</td>\n",
       "      <td>-125.562833</td>\n",
       "      <td>10.00</td>\n",
       "      <td>5.58</td>\n",
       "      <td>A</td>\n",
       "      <td>0.0</td>\n",
       "    </tr>\n",
       "    <tr>\n",
       "      <th>97187</th>\n",
       "      <td>1081579</td>\n",
       "      <td>40.377500</td>\n",
       "      <td>-125.562833</td>\n",
       "      <td>10.00</td>\n",
       "      <td>5.58</td>\n",
       "      <td>A</td>\n",
       "      <td>0.0</td>\n",
       "    </tr>\n",
       "    <tr>\n",
       "      <th>96606</th>\n",
       "      <td>1081579</td>\n",
       "      <td>40.405666</td>\n",
       "      <td>-125.486999</td>\n",
       "      <td>2.12</td>\n",
       "      <td>5.54</td>\n",
       "      <td>A</td>\n",
       "      <td>0.0</td>\n",
       "    </tr>\n",
       "  </tbody>\n",
       "</table>\n",
       "<p>24260 rows × 7 columns</p>\n",
       "</div>"
      ],
      "text/plain": [
       "             time   latitude   longitude  depth   mag shock_type  hours_diff\n",
       "quake_ID                                                                    \n",
       "0            6756  57.090000 -153.480000   0.00  7.86          M         0.0\n",
       "16          37306  41.758000   23.249000  15.00  7.02          M         0.0\n",
       "17          37306  41.802000   23.108000  15.00  6.84          A         0.0\n",
       "19          39279  51.424000  161.638000  15.00  7.50          P        -6.0\n",
       "18          39285  52.763000  160.277000  30.00  7.70          M         0.0\n",
       "...           ...        ...         ...    ...   ...        ...         ...\n",
       "96776     1081579  40.377500 -125.562833  10.00  5.58          M         0.0\n",
       "96941     1081579  40.377500 -125.562833  10.00  5.58          A         0.0\n",
       "97073     1081579  40.377500 -125.562833  10.00  5.58          A         0.0\n",
       "97187     1081579  40.377500 -125.562833  10.00  5.58          A         0.0\n",
       "96606     1081579  40.405666 -125.486999   2.12  5.54          A         0.0\n",
       "\n",
       "[24260 rows x 7 columns]"
      ]
     },
     "execution_count": 44,
     "metadata": {},
     "output_type": "execute_result"
    }
   ],
   "source": [
    "identify_shocks(quake_df)"
   ]
  },
  {
   "cell_type": "code",
   "execution_count": 41,
   "metadata": {},
   "outputs": [],
   "source": [
    "preshock_mask = quake_df[\"shock_type\"] == 'P'\n",
    "mainshock_mask = quake_df[\"shock_type\"] == 'M'\n",
    "aftershock_mask = quake_df[\"shock_type\"] == 'A'"
   ]
  },
  {
   "cell_type": "code",
   "execution_count": 42,
   "metadata": {},
   "outputs": [],
   "source": [
    "preshocks = quake_df[preshock_mask]\n",
    "mainshocks = quake_df[mainshock_mask]\n",
    "aftershocks = quake_df[aftershock_mask]"
   ]
  },
  {
   "cell_type": "code",
   "execution_count": 43,
   "metadata": {},
   "outputs": [
    {
     "name": "stdout",
     "output_type": "stream",
     "text": [
      "8880\n",
      "3706\n",
      "11674\n"
     ]
    }
   ],
   "source": [
    "print(len(preshocks))\n",
    "print(len(mainshocks))\n",
    "print(len(aftershocks))"
   ]
  },
  {
   "cell_type": "code",
   "execution_count": 45,
   "metadata": {},
   "outputs": [
    {
     "data": {
      "text/plain": [
       "<bound method NDFrame._add_numeric_operations.<locals>.min of quake_ID\n",
       "0        7.86\n",
       "16       7.02\n",
       "17       6.84\n",
       "19       7.50\n",
       "18       7.70\n",
       "         ... \n",
       "96776    5.58\n",
       "96941    5.58\n",
       "97073    5.58\n",
       "97187    5.58\n",
       "96606    5.54\n",
       "Name: mag, Length: 24260, dtype: float64>"
      ]
     },
     "execution_count": 45,
     "metadata": {},
     "output_type": "execute_result"
    }
   ],
   "source": [
    "quake_df[\"mag\"].min"
   ]
  },
  {
   "cell_type": "markdown",
   "metadata": {},
   "source": [
    "## Store as SQL"
   ]
  },
  {
   "cell_type": "code",
   "execution_count": 46,
   "metadata": {},
   "outputs": [],
   "source": [
    "# Creates and connects to repo SQL database\n",
    "conn = sqlite3.connect('../datasets/database.db')"
   ]
  },
  {
   "cell_type": "code",
   "execution_count": 47,
   "metadata": {},
   "outputs": [
    {
     "data": {
      "text/plain": [
       "24260"
      ]
     },
     "execution_count": 47,
     "metadata": {},
     "output_type": "execute_result"
    }
   ],
   "source": [
    "# Creates SQL tables from each DataFrame\n",
    "moons_table_name = 'moons_table'\n",
    "moons_df.to_sql(moons_table_name, conn, if_exists='replace', index=True)\n",
    "\n",
    "plate_table_name = 'plate_table'\n",
    "plate_df.to_sql(plate_table_name, conn, if_exists='replace', index=True)\n",
    "\n",
    "quake_table_name = 'quake_table'\n",
    "quake_df.to_sql(quake_table_name, conn, if_exists='replace', index=True)"
   ]
  },
  {
   "cell_type": "code",
   "execution_count": null,
   "metadata": {},
   "outputs": [],
   "source": []
  },
  {
   "cell_type": "code",
   "execution_count": null,
   "metadata": {},
   "outputs": [],
   "source": []
  },
  {
   "cell_type": "code",
   "execution_count": null,
   "metadata": {},
   "outputs": [],
   "source": []
  }
 ],
 "metadata": {
  "kernelspec": {
   "display_name": "Python 3 (ipykernel)",
   "language": "python",
   "name": "python3"
  },
  "language_info": {
   "codemirror_mode": {
    "name": "ipython",
    "version": 3
   },
   "file_extension": ".py",
   "mimetype": "text/x-python",
   "name": "python",
   "nbconvert_exporter": "python",
   "pygments_lexer": "ipython3",
   "version": "3.10.6"
  },
  "toc": {
   "base_numbering": 1,
   "nav_menu": {},
   "number_sections": true,
   "sideBar": true,
   "skip_h1_title": false,
   "title_cell": "Table of Contents",
   "title_sidebar": "Contents",
   "toc_cell": false,
   "toc_position": {},
   "toc_section_display": true,
   "toc_window_display": false
  }
 },
 "nbformat": 4,
 "nbformat_minor": 2
}
