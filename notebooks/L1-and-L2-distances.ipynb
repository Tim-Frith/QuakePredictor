{
 "cells": [
  {
   "cell_type": "code",
   "execution_count": 1,
   "id": "fee133ab",
   "metadata": {},
   "outputs": [],
   "source": [
    "import numpy as np\n",
    "import pandas as pd\n",
    "import os"
   ]
  },
  {
   "cell_type": "code",
   "execution_count": 2,
   "id": "1a9ea16f",
   "metadata": {},
   "outputs": [
    {
     "name": "stdout",
     "output_type": "stream",
     "text": [
      "/Users/Alenka/code/Tim-Frith/moonster_quakes/notebooks\n"
     ]
    }
   ],
   "source": [
    "!pwd"
   ]
  },
  {
   "cell_type": "markdown",
   "id": "5287928b",
   "metadata": {},
   "source": [
    "## Import data for earthquakes"
   ]
  },
  {
   "cell_type": "code",
   "execution_count": 3,
   "id": "cc752f68",
   "metadata": {},
   "outputs": [],
   "source": [
    "path = \"/Users/Alenka/code/Tim-Frith/moonster_quakes/datasets/significant_earthquakes.csv\""
   ]
  },
  {
   "cell_type": "code",
   "execution_count": 4,
   "id": "5f6196c2",
   "metadata": {},
   "outputs": [],
   "source": [
    "earthquakes_df = pd.read_csv(path)"
   ]
  },
  {
   "cell_type": "code",
   "execution_count": 5,
   "id": "23747007",
   "metadata": {},
   "outputs": [
    {
     "data": {
      "text/plain": [
       "pandas.core.frame.DataFrame"
      ]
     },
     "execution_count": 5,
     "metadata": {},
     "output_type": "execute_result"
    }
   ],
   "source": [
    "type(earthquakes_df)"
   ]
  },
  {
   "cell_type": "code",
   "execution_count": 6,
   "id": "e3cfd490",
   "metadata": {},
   "outputs": [
    {
     "data": {
      "text/plain": [
       "(97395, 23)"
      ]
     },
     "execution_count": 6,
     "metadata": {},
     "output_type": "execute_result"
    }
   ],
   "source": [
    "earthquakes_df.shape"
   ]
  },
  {
   "cell_type": "code",
   "execution_count": 7,
   "id": "dbe86aa8",
   "metadata": {},
   "outputs": [
    {
     "data": {
      "text/plain": [
       "(1260, 23)"
      ]
     },
     "execution_count": 7,
     "metadata": {},
     "output_type": "execute_result"
    }
   ],
   "source": [
    "earthquakes_df[earthquakes_df['mag']>7].shape"
   ]
  },
  {
   "cell_type": "code",
   "execution_count": 8,
   "id": "ea1aaae6",
   "metadata": {},
   "outputs": [
    {
     "data": {
      "text/html": [
       "<div>\n",
       "<style scoped>\n",
       "    .dataframe tbody tr th:only-of-type {\n",
       "        vertical-align: middle;\n",
       "    }\n",
       "\n",
       "    .dataframe tbody tr th {\n",
       "        vertical-align: top;\n",
       "    }\n",
       "\n",
       "    .dataframe thead th {\n",
       "        text-align: right;\n",
       "    }\n",
       "</style>\n",
       "<table border=\"1\" class=\"dataframe\">\n",
       "  <thead>\n",
       "    <tr style=\"text-align: right;\">\n",
       "      <th></th>\n",
       "      <th>Unnamed: 0</th>\n",
       "      <th>time</th>\n",
       "      <th>latitude</th>\n",
       "      <th>longitude</th>\n",
       "      <th>depth</th>\n",
       "      <th>mag</th>\n",
       "      <th>magType</th>\n",
       "      <th>nst</th>\n",
       "      <th>gap</th>\n",
       "      <th>dmin</th>\n",
       "      <th>...</th>\n",
       "      <th>updated</th>\n",
       "      <th>place</th>\n",
       "      <th>type</th>\n",
       "      <th>horizontalError</th>\n",
       "      <th>depthError</th>\n",
       "      <th>magError</th>\n",
       "      <th>magNst</th>\n",
       "      <th>status</th>\n",
       "      <th>locationSource</th>\n",
       "      <th>magSource</th>\n",
       "    </tr>\n",
       "  </thead>\n",
       "  <tbody>\n",
       "    <tr>\n",
       "      <th>0</th>\n",
       "      <td>0</td>\n",
       "      <td>1900-10-09T12:25:00.000Z</td>\n",
       "      <td>57.090</td>\n",
       "      <td>-153.480</td>\n",
       "      <td>NaN</td>\n",
       "      <td>7.86</td>\n",
       "      <td>mw</td>\n",
       "      <td>NaN</td>\n",
       "      <td>NaN</td>\n",
       "      <td>NaN</td>\n",
       "      <td>...</td>\n",
       "      <td>2022-05-09T14:44:17.838Z</td>\n",
       "      <td>16 km SW of Old Harbor, Alaska</td>\n",
       "      <td>earthquake</td>\n",
       "      <td>NaN</td>\n",
       "      <td>NaN</td>\n",
       "      <td>NaN</td>\n",
       "      <td>NaN</td>\n",
       "      <td>reviewed</td>\n",
       "      <td>ushis</td>\n",
       "      <td>pt</td>\n",
       "    </tr>\n",
       "    <tr>\n",
       "      <th>16</th>\n",
       "      <td>16</td>\n",
       "      <td>1904-04-04T10:26:00.880Z</td>\n",
       "      <td>41.758</td>\n",
       "      <td>23.249</td>\n",
       "      <td>15.0</td>\n",
       "      <td>7.02</td>\n",
       "      <td>mw</td>\n",
       "      <td>NaN</td>\n",
       "      <td>NaN</td>\n",
       "      <td>NaN</td>\n",
       "      <td>...</td>\n",
       "      <td>2022-04-26T14:54:31.433Z</td>\n",
       "      <td>7 km SE of Stara Kresna, Bulgaria</td>\n",
       "      <td>earthquake</td>\n",
       "      <td>NaN</td>\n",
       "      <td>4.8</td>\n",
       "      <td>0.4</td>\n",
       "      <td>NaN</td>\n",
       "      <td>reviewed</td>\n",
       "      <td>iscgem</td>\n",
       "      <td>iscgem</td>\n",
       "    </tr>\n",
       "    <tr>\n",
       "      <th>18</th>\n",
       "      <td>18</td>\n",
       "      <td>1904-06-25T21:00:38.720Z</td>\n",
       "      <td>52.763</td>\n",
       "      <td>160.277</td>\n",
       "      <td>30.0</td>\n",
       "      <td>7.70</td>\n",
       "      <td>mw</td>\n",
       "      <td>NaN</td>\n",
       "      <td>NaN</td>\n",
       "      <td>NaN</td>\n",
       "      <td>...</td>\n",
       "      <td>2022-04-25T20:22:48.406Z</td>\n",
       "      <td>115 km ESE of Petropavlovsk-Kamchatsky, Russia</td>\n",
       "      <td>earthquake</td>\n",
       "      <td>NaN</td>\n",
       "      <td>10.3</td>\n",
       "      <td>0.4</td>\n",
       "      <td>NaN</td>\n",
       "      <td>reviewed</td>\n",
       "      <td>iscgem</td>\n",
       "      <td>iscgem</td>\n",
       "    </tr>\n",
       "    <tr>\n",
       "      <th>19</th>\n",
       "      <td>19</td>\n",
       "      <td>1904-06-25T14:45:39.140Z</td>\n",
       "      <td>51.424</td>\n",
       "      <td>161.638</td>\n",
       "      <td>15.0</td>\n",
       "      <td>7.50</td>\n",
       "      <td>mw</td>\n",
       "      <td>NaN</td>\n",
       "      <td>NaN</td>\n",
       "      <td>NaN</td>\n",
       "      <td>...</td>\n",
       "      <td>2022-05-09T22:48:24.972Z</td>\n",
       "      <td>274 km SE of Petropavlovsk-Kamchatsky, Russia</td>\n",
       "      <td>earthquake</td>\n",
       "      <td>NaN</td>\n",
       "      <td>25.0</td>\n",
       "      <td>0.4</td>\n",
       "      <td>NaN</td>\n",
       "      <td>reviewed</td>\n",
       "      <td>iscgem</td>\n",
       "      <td>iscgem</td>\n",
       "    </tr>\n",
       "    <tr>\n",
       "      <th>20</th>\n",
       "      <td>20</td>\n",
       "      <td>1904-08-30T11:43:20.850Z</td>\n",
       "      <td>30.684</td>\n",
       "      <td>100.608</td>\n",
       "      <td>15.0</td>\n",
       "      <td>7.09</td>\n",
       "      <td>mw</td>\n",
       "      <td>NaN</td>\n",
       "      <td>NaN</td>\n",
       "      <td>NaN</td>\n",
       "      <td>...</td>\n",
       "      <td>2022-04-25T20:23:00.657Z</td>\n",
       "      <td>150 km WNW of Kangding, China</td>\n",
       "      <td>earthquake</td>\n",
       "      <td>NaN</td>\n",
       "      <td>25.0</td>\n",
       "      <td>0.4</td>\n",
       "      <td>NaN</td>\n",
       "      <td>reviewed</td>\n",
       "      <td>iscgem</td>\n",
       "      <td>iscgem</td>\n",
       "    </tr>\n",
       "  </tbody>\n",
       "</table>\n",
       "<p>5 rows × 23 columns</p>\n",
       "</div>"
      ],
      "text/plain": [
       "    Unnamed: 0                      time  latitude  longitude  depth   mag  \\\n",
       "0            0  1900-10-09T12:25:00.000Z    57.090   -153.480    NaN  7.86   \n",
       "16          16  1904-04-04T10:26:00.880Z    41.758     23.249   15.0  7.02   \n",
       "18          18  1904-06-25T21:00:38.720Z    52.763    160.277   30.0  7.70   \n",
       "19          19  1904-06-25T14:45:39.140Z    51.424    161.638   15.0  7.50   \n",
       "20          20  1904-08-30T11:43:20.850Z    30.684    100.608   15.0  7.09   \n",
       "\n",
       "   magType  nst  gap  dmin  ...                   updated  \\\n",
       "0       mw  NaN  NaN   NaN  ...  2022-05-09T14:44:17.838Z   \n",
       "16      mw  NaN  NaN   NaN  ...  2022-04-26T14:54:31.433Z   \n",
       "18      mw  NaN  NaN   NaN  ...  2022-04-25T20:22:48.406Z   \n",
       "19      mw  NaN  NaN   NaN  ...  2022-05-09T22:48:24.972Z   \n",
       "20      mw  NaN  NaN   NaN  ...  2022-04-25T20:23:00.657Z   \n",
       "\n",
       "                                             place        type  \\\n",
       "0                   16 km SW of Old Harbor, Alaska  earthquake   \n",
       "16               7 km SE of Stara Kresna, Bulgaria  earthquake   \n",
       "18  115 km ESE of Petropavlovsk-Kamchatsky, Russia  earthquake   \n",
       "19   274 km SE of Petropavlovsk-Kamchatsky, Russia  earthquake   \n",
       "20                   150 km WNW of Kangding, China  earthquake   \n",
       "\n",
       "   horizontalError depthError magError  magNst    status  locationSource  \\\n",
       "0              NaN        NaN      NaN     NaN  reviewed           ushis   \n",
       "16             NaN        4.8      0.4     NaN  reviewed          iscgem   \n",
       "18             NaN       10.3      0.4     NaN  reviewed          iscgem   \n",
       "19             NaN       25.0      0.4     NaN  reviewed          iscgem   \n",
       "20             NaN       25.0      0.4     NaN  reviewed          iscgem   \n",
       "\n",
       "    magSource  \n",
       "0          pt  \n",
       "16     iscgem  \n",
       "18     iscgem  \n",
       "19     iscgem  \n",
       "20     iscgem  \n",
       "\n",
       "[5 rows x 23 columns]"
      ]
     },
     "execution_count": 8,
     "metadata": {},
     "output_type": "execute_result"
    }
   ],
   "source": [
    "earthquakes_df[earthquakes_df['mag']>7].head()"
   ]
  },
  {
   "cell_type": "markdown",
   "id": "d52c1cbf",
   "metadata": {},
   "source": [
    "Selected two earthquakes for test calculation in index row 16 and 18"
   ]
  },
  {
   "cell_type": "code",
   "execution_count": 9,
   "id": "e8b337f0",
   "metadata": {},
   "outputs": [
    {
     "data": {
      "text/html": [
       "<div>\n",
       "<style scoped>\n",
       "    .dataframe tbody tr th:only-of-type {\n",
       "        vertical-align: middle;\n",
       "    }\n",
       "\n",
       "    .dataframe tbody tr th {\n",
       "        vertical-align: top;\n",
       "    }\n",
       "\n",
       "    .dataframe thead th {\n",
       "        text-align: right;\n",
       "    }\n",
       "</style>\n",
       "<table border=\"1\" class=\"dataframe\">\n",
       "  <thead>\n",
       "    <tr style=\"text-align: right;\">\n",
       "      <th></th>\n",
       "      <th>Unnamed: 0</th>\n",
       "      <th>time</th>\n",
       "      <th>latitude</th>\n",
       "      <th>longitude</th>\n",
       "      <th>depth</th>\n",
       "      <th>mag</th>\n",
       "      <th>magType</th>\n",
       "      <th>nst</th>\n",
       "      <th>gap</th>\n",
       "      <th>dmin</th>\n",
       "      <th>...</th>\n",
       "      <th>updated</th>\n",
       "      <th>place</th>\n",
       "      <th>type</th>\n",
       "      <th>horizontalError</th>\n",
       "      <th>depthError</th>\n",
       "      <th>magError</th>\n",
       "      <th>magNst</th>\n",
       "      <th>status</th>\n",
       "      <th>locationSource</th>\n",
       "      <th>magSource</th>\n",
       "    </tr>\n",
       "  </thead>\n",
       "  <tbody>\n",
       "    <tr>\n",
       "      <th>16</th>\n",
       "      <td>16</td>\n",
       "      <td>1904-04-04T10:26:00.880Z</td>\n",
       "      <td>41.758</td>\n",
       "      <td>23.249</td>\n",
       "      <td>15.0</td>\n",
       "      <td>7.02</td>\n",
       "      <td>mw</td>\n",
       "      <td>NaN</td>\n",
       "      <td>NaN</td>\n",
       "      <td>NaN</td>\n",
       "      <td>...</td>\n",
       "      <td>2022-04-26T14:54:31.433Z</td>\n",
       "      <td>7 km SE of Stara Kresna, Bulgaria</td>\n",
       "      <td>earthquake</td>\n",
       "      <td>NaN</td>\n",
       "      <td>4.8</td>\n",
       "      <td>0.4</td>\n",
       "      <td>NaN</td>\n",
       "      <td>reviewed</td>\n",
       "      <td>iscgem</td>\n",
       "      <td>iscgem</td>\n",
       "    </tr>\n",
       "  </tbody>\n",
       "</table>\n",
       "<p>1 rows × 23 columns</p>\n",
       "</div>"
      ],
      "text/plain": [
       "    Unnamed: 0                      time  latitude  longitude  depth   mag  \\\n",
       "16          16  1904-04-04T10:26:00.880Z    41.758     23.249   15.0  7.02   \n",
       "\n",
       "   magType  nst  gap  dmin  ...                   updated  \\\n",
       "16      mw  NaN  NaN   NaN  ...  2022-04-26T14:54:31.433Z   \n",
       "\n",
       "                                place        type horizontalError depthError  \\\n",
       "16  7 km SE of Stara Kresna, Bulgaria  earthquake             NaN        4.8   \n",
       "\n",
       "   magError  magNst    status  locationSource  magSource  \n",
       "16      0.4     NaN  reviewed          iscgem     iscgem  \n",
       "\n",
       "[1 rows x 23 columns]"
      ]
     },
     "execution_count": 9,
     "metadata": {},
     "output_type": "execute_result"
    }
   ],
   "source": [
    "earthquakes_df.loc[16:16]"
   ]
  },
  {
   "cell_type": "code",
   "execution_count": 10,
   "id": "cb05237c",
   "metadata": {},
   "outputs": [
    {
     "data": {
      "text/html": [
       "<div>\n",
       "<style scoped>\n",
       "    .dataframe tbody tr th:only-of-type {\n",
       "        vertical-align: middle;\n",
       "    }\n",
       "\n",
       "    .dataframe tbody tr th {\n",
       "        vertical-align: top;\n",
       "    }\n",
       "\n",
       "    .dataframe thead th {\n",
       "        text-align: right;\n",
       "    }\n",
       "</style>\n",
       "<table border=\"1\" class=\"dataframe\">\n",
       "  <thead>\n",
       "    <tr style=\"text-align: right;\">\n",
       "      <th></th>\n",
       "      <th>Unnamed: 0</th>\n",
       "      <th>time</th>\n",
       "      <th>latitude</th>\n",
       "      <th>longitude</th>\n",
       "      <th>depth</th>\n",
       "      <th>mag</th>\n",
       "      <th>magType</th>\n",
       "      <th>nst</th>\n",
       "      <th>gap</th>\n",
       "      <th>dmin</th>\n",
       "      <th>...</th>\n",
       "      <th>updated</th>\n",
       "      <th>place</th>\n",
       "      <th>type</th>\n",
       "      <th>horizontalError</th>\n",
       "      <th>depthError</th>\n",
       "      <th>magError</th>\n",
       "      <th>magNst</th>\n",
       "      <th>status</th>\n",
       "      <th>locationSource</th>\n",
       "      <th>magSource</th>\n",
       "    </tr>\n",
       "  </thead>\n",
       "  <tbody>\n",
       "    <tr>\n",
       "      <th>18</th>\n",
       "      <td>18</td>\n",
       "      <td>1904-06-25T21:00:38.720Z</td>\n",
       "      <td>52.763</td>\n",
       "      <td>160.277</td>\n",
       "      <td>30.0</td>\n",
       "      <td>7.7</td>\n",
       "      <td>mw</td>\n",
       "      <td>NaN</td>\n",
       "      <td>NaN</td>\n",
       "      <td>NaN</td>\n",
       "      <td>...</td>\n",
       "      <td>2022-04-25T20:22:48.406Z</td>\n",
       "      <td>115 km ESE of Petropavlovsk-Kamchatsky, Russia</td>\n",
       "      <td>earthquake</td>\n",
       "      <td>NaN</td>\n",
       "      <td>10.3</td>\n",
       "      <td>0.4</td>\n",
       "      <td>NaN</td>\n",
       "      <td>reviewed</td>\n",
       "      <td>iscgem</td>\n",
       "      <td>iscgem</td>\n",
       "    </tr>\n",
       "  </tbody>\n",
       "</table>\n",
       "<p>1 rows × 23 columns</p>\n",
       "</div>"
      ],
      "text/plain": [
       "    Unnamed: 0                      time  latitude  longitude  depth  mag  \\\n",
       "18          18  1904-06-25T21:00:38.720Z    52.763    160.277   30.0  7.7   \n",
       "\n",
       "   magType  nst  gap  dmin  ...                   updated  \\\n",
       "18      mw  NaN  NaN   NaN  ...  2022-04-25T20:22:48.406Z   \n",
       "\n",
       "                                             place        type  \\\n",
       "18  115 km ESE of Petropavlovsk-Kamchatsky, Russia  earthquake   \n",
       "\n",
       "   horizontalError depthError magError  magNst    status  locationSource  \\\n",
       "18             NaN       10.3      0.4     NaN  reviewed          iscgem   \n",
       "\n",
       "    magSource  \n",
       "18     iscgem  \n",
       "\n",
       "[1 rows x 23 columns]"
      ]
     },
     "execution_count": 10,
     "metadata": {},
     "output_type": "execute_result"
    }
   ],
   "source": [
    "earthquakes_df.loc[18:18]"
   ]
  },
  {
   "cell_type": "markdown",
   "id": "02d5c37d",
   "metadata": {},
   "source": [
    "## Test function on 2 earthquakes"
   ]
  },
  {
   "cell_type": "code",
   "execution_count": 11,
   "id": "28d8db01",
   "metadata": {},
   "outputs": [
    {
     "data": {
      "text/plain": [
       "41.758"
      ]
     },
     "execution_count": 11,
     "metadata": {},
     "output_type": "execute_result"
    }
   ],
   "source": [
    "earthquakes_df.loc[16:16]['latitude'].values[0]"
   ]
  },
  {
   "cell_type": "code",
   "execution_count": 12,
   "id": "34f8539a",
   "metadata": {},
   "outputs": [],
   "source": [
    "first_lat = earthquakes_df.loc[16:16]['latitude'].values[0]\n",
    "first_lon = earthquakes_df.loc[16:16]['longitude'].values[0]\n",
    "second_lat = earthquakes_df.loc[18:18]['latitude'].values[0]\n",
    "second_lon = earthquakes_df.loc[18:18]['longitude'].values[0]"
   ]
  },
  {
   "cell_type": "code",
   "execution_count": 13,
   "id": "7e6b6124",
   "metadata": {},
   "outputs": [
    {
     "data": {
      "text/plain": [
       "numpy.float64"
      ]
     },
     "execution_count": 13,
     "metadata": {},
     "output_type": "execute_result"
    }
   ],
   "source": [
    "type(first_lat)"
   ]
  },
  {
   "cell_type": "code",
   "execution_count": 14,
   "id": "126c5f66",
   "metadata": {},
   "outputs": [],
   "source": [
    "def distances_vectorized(first_lat: float, first_lon: float, second_lat: float, second_lon: float):\n",
    "    \"\"\"\n",
    "    Calculate the haversine and Manhattan distances between two points (specified in decimal degrees).\n",
    "    Vectorized version for pandas df\n",
    "    Computes distance in Km\n",
    "    \"\"\"\n",
    "    earth_radius = 6371\n",
    "\n",
    "    lat_1_rad, lon_1_rad = np.radians(first_lat), np.radians(first_lon)\n",
    "    lat_2_rad, lon_2_rad = np.radians(second_lat), np.radians(second_lon)\n",
    "\n",
    "    dlon_rad = lon_2_rad - lon_1_rad\n",
    "    dlat_rad = lat_2_rad - lat_1_rad\n",
    "\n",
    "    manhattan_rad = np.abs(dlon_rad) + np.abs(dlat_rad)\n",
    "    manhattan_km = manhattan_rad * earth_radius\n",
    "\n",
    "    a = (np.sin(dlat_rad / 2.0)**2 + np.cos(lat_1_rad) * np.cos(lat_2_rad) * np.sin(dlon_rad / 2.0)**2)\n",
    "    haversine_rad = 2 * np.arcsin(np.sqrt(a))\n",
    "    haversine_km = haversine_rad * earth_radius\n",
    "\n",
    "    return dict(\n",
    "        haversine_in_km = haversine_km,\n",
    "        manhattan_in_km = manhattan_km\n",
    "    )"
   ]
  },
  {
   "cell_type": "code",
   "execution_count": 15,
   "id": "467fcffe",
   "metadata": {},
   "outputs": [],
   "source": [
    "distances_check = distances_vectorized(first_lat, first_lon, second_lat, second_lon)"
   ]
  },
  {
   "cell_type": "code",
   "execution_count": 16,
   "id": "b83ee13c",
   "metadata": {},
   "outputs": [
    {
     "data": {
      "text/plain": [
       "{'haversine_in_km': 8725.08781194689, 'manhattan_in_km': 16460.518575973965}"
      ]
     },
     "execution_count": 16,
     "metadata": {},
     "output_type": "execute_result"
    }
   ],
   "source": [
    "distances_check"
   ]
  },
  {
   "cell_type": "markdown",
   "id": "8c8b56e3",
   "metadata": {},
   "source": [
    "## Functions from past challenges\n",
    "\n",
    "Maybe to be used when we are transferring dataframe"
   ]
  },
  {
   "cell_type": "code",
   "execution_count": 17,
   "id": "c797bfc9",
   "metadata": {},
   "outputs": [],
   "source": [
    "# def transform_lonlat_features(X: pd.DataFrame) -> pd.DataFrame:\n",
    "#     lonlat_features = [\"pickup_latitude\", \"pickup_longitude\", \"dropoff_latitude\", \"dropoff_longitude\"]\n",
    "#     assert isinstance(X, pd.DataFrame)\n",
    "#     res = distances_vectorized(X, *lonlat_features)\n",
    "\n",
    "#     return pd.DataFrame(res)"
   ]
  },
  {
   "cell_type": "code",
   "execution_count": 18,
   "id": "54768b3f",
   "metadata": {},
   "outputs": [],
   "source": [
    "# def distances_vectorized(df: pd.DataFrame, start_lat: str, start_lon: str, end_lat: str, end_lon: str) -> dict:\n",
    "#     \"\"\"\n",
    "#     Calculate the haversine and Manhattan distances between two points (specified in decimal degrees).\n",
    "#     Vectorized version for pandas df\n",
    "#     Computes distance in Km\n",
    "#     \"\"\"\n",
    "#     earth_radius = 6371\n",
    "\n",
    "#     lat_1_rad, lon_1_rad = np.radians(df[start_lat]), np.radians(df[start_lon])\n",
    "#     lat_2_rad, lon_2_rad = np.radians(df[end_lat]), np.radians(df[end_lon])\n",
    "\n",
    "#     dlon_rad = lon_2_rad - lon_1_rad\n",
    "#     dlat_rad = lat_2_rad - lat_1_rad\n",
    "\n",
    "#     manhattan_rad = np.abs(dlon_rad) + np.abs(dlat_rad)\n",
    "#     manhattan_km = manhattan_rad * earth_radius\n",
    "\n",
    "#     a = (np.sin(dlat_rad / 2.0)**2 + np.cos(lat_1_rad) * np.cos(lat_2_rad) * np.sin(dlon_rad / 2.0)**2)\n",
    "#     haversine_rad = 2 * np.arcsin(np.sqrt(a))\n",
    "#     haversine_km = haversine_rad * earth_radius\n",
    "\n",
    "#     return dict(\n",
    "#         haversine = haversine_km,\n",
    "#         manhattan = manhattan_km\n",
    "#     )"
   ]
  },
  {
   "cell_type": "code",
   "execution_count": null,
   "id": "addd92f4",
   "metadata": {},
   "outputs": [],
   "source": []
  },
  {
   "cell_type": "code",
   "execution_count": null,
   "id": "fa915cac",
   "metadata": {},
   "outputs": [],
   "source": []
  },
  {
   "cell_type": "code",
   "execution_count": null,
   "id": "1aa7b367",
   "metadata": {},
   "outputs": [],
   "source": []
  },
  {
   "cell_type": "code",
   "execution_count": null,
   "id": "26330e30",
   "metadata": {},
   "outputs": [],
   "source": []
  },
  {
   "cell_type": "code",
   "execution_count": null,
   "id": "4850e655",
   "metadata": {},
   "outputs": [],
   "source": []
  }
 ],
 "metadata": {
  "kernelspec": {
   "display_name": "Python 3 (ipykernel)",
   "language": "python",
   "name": "python3"
  },
  "language_info": {
   "codemirror_mode": {
    "name": "ipython",
    "version": 3
   },
   "file_extension": ".py",
   "mimetype": "text/x-python",
   "name": "python",
   "nbconvert_exporter": "python",
   "pygments_lexer": "ipython3",
   "version": "3.10.6"
  },
  "toc": {
   "base_numbering": 1,
   "nav_menu": {},
   "number_sections": false,
   "sideBar": true,
   "skip_h1_title": false,
   "title_cell": "Table of Contents",
   "title_sidebar": "Contents",
   "toc_cell": false,
   "toc_position": {},
   "toc_section_display": true,
   "toc_window_display": false
  },
  "varInspector": {
   "cols": {
    "lenName": 16,
    "lenType": 16,
    "lenVar": 40
   },
   "kernels_config": {
    "python": {
     "delete_cmd_postfix": "",
     "delete_cmd_prefix": "del ",
     "library": "var_list.py",
     "varRefreshCmd": "print(var_dic_list())"
    },
    "r": {
     "delete_cmd_postfix": ") ",
     "delete_cmd_prefix": "rm(",
     "library": "var_list.r",
     "varRefreshCmd": "cat(var_dic_list()) "
    }
   },
   "types_to_exclude": [
    "module",
    "function",
    "builtin_function_or_method",
    "instance",
    "_Feature"
   ],
   "window_display": false
  }
 },
 "nbformat": 4,
 "nbformat_minor": 5
}
